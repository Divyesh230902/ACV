{
 "cells": [
  {
   "cell_type": "code",
   "execution_count": 1,
   "metadata": {},
   "outputs": [],
   "source": [
    "import cv2 as cv\n",
    "import numpy as np\n",
    "import matplotlib.pyplot as plt\n",
    "import os\n",
    "import random\n",
    "import pickle\n",
    "import tensorflow as tf\n",
    "from tensorflow.keras.models import Sequential\n",
    "from tensorflow.keras.layers import Dense, Dropout, Activation, Flatten, Conv2D, MaxPooling2D"
   ]
  },
  {
   "cell_type": "code",
   "execution_count": 24,
   "metadata": {},
   "outputs": [
    {
     "name": "stdout",
     "output_type": "stream",
     "text": [
      "['Tomato 4', 'Apple Red Delicious', 'Tomato 3', 'Huckleberry', 'Blueberry', 'Pear Red', 'Banana Lady Finger', 'Melon Piel de Sapo', 'Pear', 'Cherry 1', 'Strawberry', 'Nut Forest', 'Avocado', 'Tomato 2', 'Pomegranate', 'Dates', 'Carambula', 'Potato Red Washed', 'Granadilla', 'Kohlrabi', 'Tamarillo', 'Pepper Red', 'Fig', 'Ginger Root', 'Kiwi', 'Cherry Wax Yellow', 'Lemon', 'Guava', 'Apple Golden 2', 'Pear Stone', 'Apple Red 1', 'Cauliflower', 'Mandarine', 'Quince', 'Strawberry Wedge', 'Pear Monster', 'Raspberry', 'Pitahaya Red', 'Nut Pecan', 'Apple Golden 3', 'Redcurrant', 'Apple Red Yellow 1', 'Pepper Yellow', 'Grape Pink', 'Banana Red', 'Cucumber Ripe 2', 'Physalis', 'Cherry Rainier', 'Maracuja', 'Chestnut', 'Plum', 'Potato Sweet', 'Cucumber Ripe', 'Hazelnut', 'Nectarine', 'Cherry Wax Black', 'Cantaloupe 2', 'Lychee', 'Pepper Orange', 'Clementine', 'Watermelon', 'Pear Kaiser', 'Mangostan', 'Cherry 2', 'Pineapple Mini', 'Rambutan', 'Grape White', 'Tomato Yellow', 'Apple Braeburn', 'Tomato Maroon', 'Onion White', 'Onion Red Peeled', 'Mango', 'Potato White', 'Apple Crimson Snow', 'Potato Red', 'Corn Husk', 'Cocos', 'Mulberry', 'Avocado ripe', 'Tomato 1', 'Passion Fruit', 'Apple Granny Smith', 'Beetroot', 'Kumquats', 'Grape White 2', 'Apricot', 'Eggplant', 'Limes', 'Corn', 'Grape White 4', 'Grape White 3', 'Tomato Heart', 'Apple Pink Lady', 'Plum 3', 'Pear Williams', 'Tomato not Ripened', 'Peach 2', 'Pomelo Sweetie', 'Salak', 'Grapefruit Pink', 'Apple Golden 1', 'Banana', 'Apple Red 2', 'Onion Red', 'Physalis with Husk', 'Apple Red Yellow 2', 'Grape Blue', 'Lemon Meyer', 'Plum 2', 'Pepino', 'Tangelo', 'Cactus fruit', 'Papaya', 'Apple Red 3', 'Walnut', 'Pear Abate', 'Pear 2', 'Pear Forelle', 'Pineapple', 'Tomato Cherry Red', 'Cherry Wax Red', 'Mango Red', 'Orange', 'Nectarine Flat', 'Kaki', 'Pepper Green', 'Grapefruit White', 'Peach', 'Cantaloupe 1', 'Peach Flat']\n"
     ]
    }
   ],
   "source": [
    "training_data = []\n",
    "IMG_SIZE = 100\n",
    "DATADIR = \"Fruit/fruits-360_dataset/fruits-360/Training\"\n",
    "\n",
    "CATEGORIES = [i for i in os.listdir(DATADIR) if not i.startswith('.')]\n",
    "print(CATEGORIES)\n",
    "\n",
    "for category in CATEGORIES:\n",
    "    path = os.path.join(DATADIR, category)\n",
    "    class_num = CATEGORIES.index(category)\n",
    "    for img in os.listdir(path):\n",
    "        try:\n",
    "            img_array = cv.imread(os.path.join(path, img))\n",
    "            img_array = cv.cvtColor(img_array, cv.COLOR_BGR2RGB)\n",
    "            new_array = cv.resize(img_array, (IMG_SIZE, IMG_SIZE))\n",
    "            training_data.append([new_array, class_num])\n",
    "        except Exception as e:\n",
    "            pass\n",
    "\n",
    "random.shuffle(training_data)\n",
    "\n",
    "X_train = []\n",
    "y_train = []\n",
    "\n",
    "for features, label in training_data:\n",
    "    X_train.append(features)\n",
    "    y_train.append(label)\n",
    "\n",
    "X_train = np.array(X_train).reshape(-1, IMG_SIZE, IMG_SIZE, 3)\n",
    "y_train = np.array(y_train)"
   ]
  },
  {
   "cell_type": "code",
   "execution_count": 4,
   "metadata": {},
   "outputs": [],
   "source": [
    "test_data = []\n",
    "DATADIR = \"Fruit/fruits-360_dataset/fruits-360/Test\"\n",
    "\n",
    "for category in CATEGORIES:\n",
    "    path = os.path.join(DATADIR, category)\n",
    "    class_num = CATEGORIES.index(category)\n",
    "    for img in os.listdir(path):\n",
    "        try:\n",
    "            img_array = cv.imread(os.path.join(path, img))\n",
    "            img_array = cv.cvtColor(img_array, cv.COLOR_BGR2RGB)\n",
    "            new_array = cv.resize(img_array, (IMG_SIZE, IMG_SIZE))\n",
    "            test_data.append([new_array, class_num])\n",
    "        except Exception as e:\n",
    "            pass\n",
    "\n",
    "random.shuffle(test_data)\n",
    "\n",
    "X_test = []\n",
    "y_test = []\n",
    "\n",
    "for features, label in test_data:\n",
    "    X_test.append(features)\n",
    "    y_test.append(label)\n",
    "\n",
    "X_test = np.array(X_test).reshape(-1, IMG_SIZE, IMG_SIZE, 3)\n",
    "y_test = np.array(y_test)"
   ]
  },
  {
   "cell_type": "code",
   "execution_count": 5,
   "metadata": {},
   "outputs": [
    {
     "name": "stdout",
     "output_type": "stream",
     "text": [
      "Metal device set to: Apple M1 Max\n",
      "\n",
      "systemMemory: 64.00 GB\n",
      "maxCacheSize: 24.00 GB\n",
      "\n",
      "Epoch 1/10\n"
     ]
    },
    {
     "name": "stderr",
     "output_type": "stream",
     "text": [
      "2023-06-12 23:54:14.938569: W tensorflow/tsl/platform/profile_utils/cpu_utils.cc:128] Failed to get CPU frequency: 0 Hz\n"
     ]
    },
    {
     "name": "stdout",
     "output_type": "stream",
     "text": [
      "1904/1904 [==============================] - 41s 20ms/step - loss: 1.0504 - accuracy: 0.8361 - val_loss: 0.1096 - val_accuracy: 0.9691\n",
      "Epoch 2/10\n",
      "1904/1904 [==============================] - 35s 19ms/step - loss: 0.1389 - accuracy: 0.9661 - val_loss: 0.0797 - val_accuracy: 0.9790\n",
      "Epoch 3/10\n",
      "1904/1904 [==============================] - 35s 18ms/step - loss: 0.0938 - accuracy: 0.9782 - val_loss: 0.1814 - val_accuracy: 0.9750\n",
      "Epoch 4/10\n",
      "1904/1904 [==============================] - 35s 19ms/step - loss: 0.0914 - accuracy: 0.9807 - val_loss: 0.0561 - val_accuracy: 0.9892\n",
      "Epoch 5/10\n",
      "1904/1904 [==============================] - 36s 19ms/step - loss: 0.0982 - accuracy: 0.9818 - val_loss: 0.0607 - val_accuracy: 0.9882\n",
      "Epoch 6/10\n",
      "1904/1904 [==============================] - 35s 18ms/step - loss: 0.0794 - accuracy: 0.9863 - val_loss: 0.2169 - val_accuracy: 0.9744\n",
      "Epoch 7/10\n",
      "1904/1904 [==============================] - 35s 18ms/step - loss: 0.0907 - accuracy: 0.9856 - val_loss: 0.0665 - val_accuracy: 0.9914\n",
      "Epoch 8/10\n",
      "1904/1904 [==============================] - 37s 20ms/step - loss: 0.0861 - accuracy: 0.9880 - val_loss: 0.1116 - val_accuracy: 0.9904\n",
      "Epoch 9/10\n",
      "1904/1904 [==============================] - 38s 20ms/step - loss: 0.0861 - accuracy: 0.9891 - val_loss: 0.2809 - val_accuracy: 0.9657\n",
      "Epoch 10/10\n",
      "1904/1904 [==============================] - 37s 19ms/step - loss: 0.0935 - accuracy: 0.9891 - val_loss: 0.0711 - val_accuracy: 0.9917\n"
     ]
    },
    {
     "data": {
      "text/plain": [
       "<keras.callbacks.History at 0x413d19c00>"
      ]
     },
     "execution_count": 5,
     "metadata": {},
     "output_type": "execute_result"
    }
   ],
   "source": [
    "model = Sequential()\n",
    "\n",
    "model.add(Conv2D(64, (3, 3), input_shape=X_train.shape[1:]))\n",
    "model.add(Activation(\"relu\"))\n",
    "model.add(MaxPooling2D(pool_size=(2, 2)))\n",
    "\n",
    "model.add(Conv2D(64, (3, 3)))\n",
    "model.add(Activation(\"relu\"))\n",
    "model.add(MaxPooling2D(pool_size=(2, 2)))\n",
    "\n",
    "model.add(Flatten())\n",
    "\n",
    "model.add(Dense(64))\n",
    "model.add(Activation(\"relu\"))\n",
    "\n",
    "model.add(Dense(131))\n",
    "model.add(Activation(\"softmax\"))\n",
    "\n",
    "model.compile(loss=\"sparse_categorical_crossentropy\", optimizer=\"adam\", metrics=[\"accuracy\"])\n",
    "\n",
    "model.fit(X_train, y_train, batch_size=32, epochs=10, validation_split=0.1)"
   ]
  },
  {
   "cell_type": "code",
   "execution_count": 7,
   "metadata": {},
   "outputs": [
    {
     "name": "stdout",
     "output_type": "stream",
     "text": [
      "709/709 [==============================] - 4s 6ms/step\n"
     ]
    },
    {
     "data": {
      "text/plain": [
       "array([[2.6514858e-23, 1.4230681e-27, 1.2529897e-30, ..., 1.6891205e-30,\n",
       "        2.9298481e-16, 5.2274852e-23],\n",
       "       [0.0000000e+00, 0.0000000e+00, 0.0000000e+00, ..., 0.0000000e+00,\n",
       "        0.0000000e+00, 0.0000000e+00],\n",
       "       [0.0000000e+00, 0.0000000e+00, 0.0000000e+00, ..., 0.0000000e+00,\n",
       "        0.0000000e+00, 0.0000000e+00],\n",
       "       ...,\n",
       "       [0.0000000e+00, 0.0000000e+00, 0.0000000e+00, ..., 0.0000000e+00,\n",
       "        0.0000000e+00, 0.0000000e+00],\n",
       "       [0.0000000e+00, 0.0000000e+00, 0.0000000e+00, ..., 0.0000000e+00,\n",
       "        0.0000000e+00, 0.0000000e+00],\n",
       "       [0.0000000e+00, 0.0000000e+00, 0.0000000e+00, ..., 0.0000000e+00,\n",
       "        0.0000000e+00, 0.0000000e+00]], dtype=float32)"
      ]
     },
     "execution_count": 7,
     "metadata": {},
     "output_type": "execute_result"
    }
   ],
   "source": [
    "img = model.predict(X_test, batch_size=32)"
   ]
  },
  {
   "cell_type": "code",
   "execution_count": 9,
   "metadata": {},
   "outputs": [
    {
     "name": "stderr",
     "output_type": "stream",
     "text": [
      "WARNING:absl:Found untraced functions such as _jit_compiled_convolution_op, _jit_compiled_convolution_op while saving (showing 2 of 2). These functions will not be directly callable after loading.\n"
     ]
    },
    {
     "name": "stdout",
     "output_type": "stream",
     "text": [
      "INFO:tensorflow:Assets written to: fruit_model.model/assets\n"
     ]
    },
    {
     "name": "stderr",
     "output_type": "stream",
     "text": [
      "INFO:tensorflow:Assets written to: fruit_model.model/assets\n"
     ]
    }
   ],
   "source": [
    "model.save(\"fruit_model.model\")"
   ]
  },
  {
   "cell_type": "code",
   "execution_count": 23,
   "metadata": {},
   "outputs": [
    {
     "name": "stdout",
     "output_type": "stream",
     "text": [
      "709/709 [==============================] - 4s 6ms/step\n",
      "Grape White 2\n"
     ]
    }
   ],
   "source": [
    "# open fruit_model.model\n",
    "model = tf.keras.models.load_model(\"fruit_model.model\")\n",
    "\n",
    "# test the model\n",
    "prediction = model.predict([X_test])\n",
    "print(CATEGORIES[np.argmax(prediction[0])])"
   ]
  },
  {
   "cell_type": "code",
   "execution_count": 22,
   "metadata": {},
   "outputs": [
    {
     "name": "stdout",
     "output_type": "stream",
     "text": [
      "1/1 [==============================] - 0s 15ms/step\n",
      "Apple Red Delicious\n"
     ]
    },
    {
     "data": {
      "image/png": "[encoded data removed]",
      "text/plain": [
       "<Figure size 640x480 with 1 Axes>"
      ]
     },
     "metadata": {},
     "output_type": "display_data"
    }
   ],
   "source": [
    "# test the model with a single image\n",
    "img = cv.imread(\"Fruit/fruits-360_dataset/fruits-360/Training/Apple Red Delicious/9_100.jpg\")\n",
    "img = cv.cvtColor(img, cv.COLOR_BGR2RGB)\n",
    "img = cv.resize(img, (IMG_SIZE, IMG_SIZE))\n",
    "img = np.array(img).reshape(-1, IMG_SIZE, IMG_SIZE, 3)\n",
    "prediction = model.predict([img])\n",
    "print(CATEGORIES[np.argmax(prediction[0])])\n",
    "plt.imshow(img[0])\n",
    "plt.show()"
   ]
  }
 ],
 "metadata": {
  "kernelspec": {
   "display_name": "cv",
   "language": "python",
   "name": "python3"
  },
  "language_info": {
   "codemirror_mode": {
    "name": "ipython",
    "version": 3
   },
   "file_extension": ".py",
   "mimetype": "text/x-python",
   "name": "python",
   "nbconvert_exporter": "python",
   "pygments_lexer": "ipython3",
   "version": "3.10.11"
  },
  "orig_nbformat": 4
 },
 "nbformat": 4,
 "nbformat_minor": 2
}
